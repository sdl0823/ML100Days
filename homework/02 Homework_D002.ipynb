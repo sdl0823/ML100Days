{
 "cells": [
  {
   "cell_type": "markdown",
   "metadata": {
    "id": "P6xk2_jLsvFF"
   },
   "source": [
    "# [作業目標]\n",
    "\n",
    "1. [簡答題] 請問 type(...) 跟 a.dtype 這兩個語法有什麼不同？\n",
    "\n",
    "```\n",
    "print('type(a): ', type(a))\n",
    "print('a.dtype: ', a.dtype)\n",
    "```\n",
    "\n",
    "2. 請撰寫一個判斷 a 的元素是否等於指定資料型態的函式\n",
    "\n",
    "3. [簡答題] 承上題，請判斷下列三種寫法為何不正確？\n",
    "\n",
    "```\n",
    "def is_dtype(a, t):\n",
    "    return a.dtype is t\n",
    "\n",
    "def is_dtype(a, t):\n",
    "    return type(a) == np.dtype(t)\n",
    "\n",
    "def is_dtype(a, t):\n",
    "    return type(a) is np.dtype(t)\n",
    "```"
   ]
  },
  {
   "cell_type": "markdown",
   "metadata": {
    "id": "uXGll28asvFS"
   },
   "source": [
    "# 作業 "
   ]
  },
  {
   "cell_type": "markdown",
   "metadata": {
    "id": "qmOwRRtHNgfI"
   },
   "source": [
    "### 1. [簡答題] 請問 type(...) 跟 a.dtype 這兩個語法有什麼不同？\n",
    "\n",
    "```\n",
    "print('type(a): ', type(a))\n",
    "print('a.dtype: ', a.dtype)\n",
    "```\n"
   ]
  },
  {
   "cell_type": "code",
   "execution_count": 1,
   "metadata": {
    "id": "5QrYoyNWsvFS",
    "outputId": "8977bda1-0e79-4faa-8370-76a2b0767482"
   },
   "outputs": [
    {
     "name": "stdout",
     "output_type": "stream",
     "text": [
      "a: [[ 0  1  2  3  4]\n",
      " [ 5  6  7  8  9]\n",
      " [10 11 12 13 14]]\n",
      "type(a):  <class 'numpy.ndarray'>\n",
      "type(a[0][0]):  <class 'numpy.int32'>\n",
      "a.dtype:  int32\n",
      "type(a[0][0]) == a.dtype return True\n"
     ]
    }
   ],
   "source": [
    "import numpy as np\n",
    "a = np.arange(15).reshape(3, 5)\n",
    "print('a:',a)\n",
    "print('type(a): ', type(a))\n",
    "print('type(a[0][0]): ', type(a[0][0]))\n",
    "print('a.dtype: ', a.dtype)\n",
    "print(f'type(a[0][0]) == a.dtype return {type(a[0][0]) == a.dtype}')"
   ]
  },
  {
   "cell_type": "markdown",
   "metadata": {
    "id": "hgsGyqXHNgfK"
   },
   "source": [
    "### 2. 請撰寫一個判斷 a 的元素是否等於指定資料型態的函式，並且通過測試。\n",
    "\n"
   ]
  },
  {
   "cell_type": "code",
   "execution_count": 2,
   "metadata": {
    "id": "e1gVI0tvsvFY"
   },
   "outputs": [],
   "source": [
    "# 記得先 Import 正確的套件\n",
    "\n",
    "import numpy as np"
   ]
  },
  {
   "cell_type": "code",
   "execution_count": 3,
   "metadata": {
    "id": "ew2BtKF2NgfL"
   },
   "outputs": [],
   "source": [
    "def is_dtype(a, t):\n",
    "    return a.dtype is np.dtype(t) "
   ]
  },
  {
   "cell_type": "code",
   "execution_count": 4,
   "metadata": {
    "id": "sGs__HXnNgfL",
    "outputId": "6230ab6b-ea54-4102-ebae-5202b9f4826d"
   },
   "outputs": [
    {
     "name": "stdout",
     "output_type": "stream",
     "text": [
      "True\n",
      "True\n",
      "True\n"
     ]
    }
   ],
   "source": [
    "a = np.random.randint(10, size=6) \n",
    "\n",
    "# 測試一\n",
    "print(is_dtype(a, 'int')) # True\n",
    "\n",
    "# 測試二\n",
    "print(is_dtype(a, np.int)) # True\n",
    "\n",
    "# 測試三\n",
    "print(is_dtype(a, np.dtype('int'))) # True"
   ]
  },
  {
   "cell_type": "code",
   "execution_count": 5,
   "metadata": {},
   "outputs": [
    {
     "name": "stdout",
     "output_type": "stream",
     "text": [
      "a is [2 9 6 6 2 5]\n",
      "type([2 9 6 6 2 5]) is <class 'numpy.ndarray'>\n",
      "[2 9 6 6 2 5].dtype is int32,\n",
      "t is int,type(int) is <class 'str'>             \n",
      "np.dtype(int) is int32\n",
      "Ans 1:a.dtype is np.dtype(t) return  True\n",
      "a is [2 9 6 6 2 5]\n",
      "type([2 9 6 6 2 5]) is <class 'numpy.ndarray'>\n",
      "[2 9 6 6 2 5].dtype is int32,\n",
      "t is <class 'int'>,type(<class 'int'>) is <class 'type'>             \n",
      "np.dtype(<class 'int'>) is int32\n",
      "Ans 2:a.dtype is np.dtype(t) return  True\n",
      "a is [2 9 6 6 2 5]\n",
      "type([2 9 6 6 2 5]) is <class 'numpy.ndarray'>\n",
      "[2 9 6 6 2 5].dtype is int32,\n",
      "t is int32,type(int32) is <class 'numpy.dtype'>             \n",
      "np.dtype(int32) is int32\n",
      "Ans 3:a.dtype is np.dtype(t) return  True\n"
     ]
    }
   ],
   "source": [
    "def is_dtype(a, t):\n",
    "    print(f\"a is {a}\\ntype({a}) is {type(a)}\\n{a}.dtype is {a.dtype},\\nt is {t},type({t}) is {type(t)} \\\n",
    "            \\nnp.dtype({t}) is {np.dtype(t)}\")\n",
    "    return a.dtype is np.dtype(t)\n",
    "\n",
    "import numpy as np\n",
    "a = np.random.randint(10, size=6) \n",
    "\n",
    "# 測試一\n",
    "print('Ans 1:a.dtype is np.dtype(t) return ',is_dtype(a, 'int')) # True\n",
    "\n",
    "# 測試二\n",
    "print('Ans 2:a.dtype is np.dtype(t) return ',is_dtype(a, np.int)) # True\n",
    "\n",
    "# 測試三\n",
    "print('Ans 3:a.dtype is np.dtype(t) return ',is_dtype(a, np.dtype('int'))) # True"
   ]
  },
  {
   "cell_type": "code",
   "execution_count": 6,
   "metadata": {},
   "outputs": [
    {
     "name": "stdout",
     "output_type": "stream",
     "text": [
      "a is [2 1 0 4 0 8]\n",
      "type([2 1 0 4 0 8]) is <class 'numpy.ndarray'>\n",
      "[2 1 0 4 0 8].dtype is int32,\n",
      "t is int,type(int) is <class 'str'>             \n",
      "np.dtype(int) is int32\n",
      "Ans 1:a.dtype == np.dtype(t) return  True\n",
      "a is [2 1 0 4 0 8]\n",
      "type([2 1 0 4 0 8]) is <class 'numpy.ndarray'>\n",
      "[2 1 0 4 0 8].dtype is int32,\n",
      "t is <class 'int'>,type(<class 'int'>) is <class 'type'>             \n",
      "np.dtype(<class 'int'>) is int32\n",
      "Ans 2:a.dtype == np.dtype(t) return  True\n",
      "a is [2 1 0 4 0 8]\n",
      "type([2 1 0 4 0 8]) is <class 'numpy.ndarray'>\n",
      "[2 1 0 4 0 8].dtype is int32,\n",
      "t is int32,type(int32) is <class 'numpy.dtype'>             \n",
      "np.dtype(int32) is int32\n",
      "Ans 3:a.dtype == np.dtype(t) return  True\n"
     ]
    }
   ],
   "source": [
    "def is_dtype(a, t):\n",
    "    print(f\"a is {a}\\ntype({a}) is {type(a)}\\n{a}.dtype is {a.dtype},\\nt is {t},type({t}) is {type(t)} \\\n",
    "            \\nnp.dtype({t}) is {np.dtype(t)}\")\n",
    "    return a.dtype == np.dtype(t)\n",
    "\n",
    "import numpy as np\n",
    "a = np.random.randint(10, size=6) \n",
    "\n",
    "# 測試一\n",
    "print('Ans 1:a.dtype == np.dtype(t) return ',is_dtype(a, 'int')) # True\n",
    "\n",
    "# 測試二\n",
    "print('Ans 2:a.dtype == np.dtype(t) return ',is_dtype(a, np.int)) # True\n",
    "\n",
    "# 測試三\n",
    "print('Ans 3:a.dtype == np.dtype(t) return ',is_dtype(a, np.dtype('int'))) # True"
   ]
  },
  {
   "cell_type": "markdown",
   "metadata": {
    "id": "iM6o3Ra1NgfM"
   },
   "source": [
    "### 3. [簡答題] 承上題，請判斷下列三種寫法為何不正確？\n",
    "\n",
    "```\n",
    "def is_dtype(a, t):\n",
    "    return a.dtype is t\n",
    "\n",
    "def is_dtype(a, t):\n",
    "    return type(a) == np.dtype(t)\n",
    "\n",
    "def is_dtype(a, t):\n",
    "    return type(a) is np.dtype(t)\n",
    "```"
   ]
  },
  {
   "cell_type": "code",
   "execution_count": 7,
   "metadata": {
    "id": "INXaaXTuNgfM"
   },
   "outputs": [
    {
     "name": "stdout",
     "output_type": "stream",
     "text": [
      "a is [1 4 5 4 6 5]\n",
      "type([1 4 5 4 6 5]) is <class 'numpy.ndarray'>\n",
      "[1 4 5 4 6 5].dtype is int32,\n",
      "t is int,type(int) is <class 'str'>\n",
      "Ans 1:a.dtype is t return  False \n",
      "\n",
      "a is [1 4 5 4 6 5]\n",
      "type([1 4 5 4 6 5]) is <class 'numpy.ndarray'>\n",
      "[1 4 5 4 6 5].dtype is int32,\n",
      "t is <class 'int'>,type(<class 'int'>) is <class 'type'>\n",
      "Ans 2:a.dtype is t return  False \n",
      "\n",
      "a is [1 4 5 4 6 5]\n",
      "type([1 4 5 4 6 5]) is <class 'numpy.ndarray'>\n",
      "[1 4 5 4 6 5].dtype is int32,\n",
      "t is int32,type(int32) is <class 'numpy.dtype'>\n",
      "Ans 3:a.dtype is t return  True \n",
      "\n"
     ]
    }
   ],
   "source": [
    "def is_dtype(a, t):\n",
    "    print(f\"a is {a}\\ntype({a}) is {type(a)}\\n{a}.dtype is {a.dtype},\\nt is {t},type({t}) is {type(t)}\")\n",
    "    return a.dtype is t\n",
    "\n",
    "import numpy as np\n",
    "a = np.random.randint(10, size=6) \n",
    "\n",
    "# 測試一\n",
    "print('Ans 1:a.dtype is t return ',is_dtype(a, 'int'),'\\n') # False\n",
    "\n",
    "# 測試二\n",
    "print('Ans 2:a.dtype is t return ',is_dtype(a, np.int),'\\n') # False\n",
    "\n",
    "# 測試三\n",
    "print('Ans 3:a.dtype is t return ',is_dtype(a, np.dtype('int')),'\\n') # True"
   ]
  },
  {
   "cell_type": "code",
   "execution_count": 8,
   "metadata": {},
   "outputs": [
    {
     "name": "stdout",
     "output_type": "stream",
     "text": [
      "a is 4\n",
      "type(4) is <class 'numpy.int32'>\n",
      "4.dtype is int32,\n",
      "t is int,type(int) is <class 'str'>\n",
      "Ans 1:a[0].dtype is t return  False \n",
      "\n",
      "a is 4\n",
      "type(4) is <class 'numpy.int32'>\n",
      "4.dtype is int32,\n",
      "t is <class 'int'>,type(<class 'int'>) is <class 'type'>\n",
      "Ans 2:a[0].dtype is t return  False \n",
      "\n",
      "a is 4\n",
      "type(4) is <class 'numpy.int32'>\n",
      "4.dtype is int32,\n",
      "t is int32,type(int32) is <class 'numpy.dtype'>\n",
      "Ans 3:a[0].dtype is t return  True \n",
      "\n"
     ]
    }
   ],
   "source": [
    "def is_dtype(a, t):\n",
    "    print(f\"a is {a}\\ntype({a}) is {type(a)}\\n{a}.dtype is {a.dtype},\\nt is {t},type({t}) is {type(t)}\")\n",
    "    return a.dtype is t\n",
    "\n",
    "import numpy as np\n",
    "a = np.random.randint(10, size=6) \n",
    "\n",
    "# 測試一\n",
    "print('Ans 1:a[0].dtype is t return ',is_dtype(a[0], 'int'),'\\n') # False\n",
    "\n",
    "# 測試二\n",
    "print('Ans 2:a[0].dtype is t return ',is_dtype(a[0], np.int),'\\n') # False\n",
    "\n",
    "# 測試三\n",
    "print('Ans 3:a[0].dtype is t return ',is_dtype(a[0], np.dtype('int')),'\\n') # True"
   ]
  },
  {
   "cell_type": "code",
   "execution_count": 9,
   "metadata": {
    "id": "WH1UuVJCNgfN"
   },
   "outputs": [
    {
     "name": "stdout",
     "output_type": "stream",
     "text": [
      "a is [9 7 2 2 0 3]\n",
      "type([9 7 2 2 0 3]) is <class 'numpy.ndarray'>\n",
      "t is int,type(int) is <class 'str'>\n",
      "np.dtype(int) is int32\n",
      "Ans 1:type(a) == np.dtype(t) return  False \n",
      "\n",
      "a is [9 7 2 2 0 3]\n",
      "type([9 7 2 2 0 3]) is <class 'numpy.ndarray'>\n",
      "t is <class 'int'>,type(<class 'int'>) is <class 'type'>\n",
      "np.dtype(<class 'int'>) is int32\n",
      "Ans 2:type(a) == np.dtype(t) return  False \n",
      "\n",
      "a is [9 7 2 2 0 3]\n",
      "type([9 7 2 2 0 3]) is <class 'numpy.ndarray'>\n",
      "t is int32,type(int32) is <class 'numpy.dtype'>\n",
      "np.dtype(int32) is int32\n",
      "Ans 3:type(a) == np.dtype(t) return  False \n",
      "\n",
      "a is 9\n",
      "type(9) is <class 'numpy.int32'>\n",
      "t is int,type(int) is <class 'str'>\n",
      "np.dtype(int) is int32\n",
      "Ans 4:type(a[0]) == np.dtype(t) return  True \n",
      "\n"
     ]
    }
   ],
   "source": [
    "def is_dtype(a, t):\n",
    "    print(f\"a is {a}\\ntype({a}) is {type(a)}\\nt is {t},type({t}) is {type(t)}\\nnp.dtype({t}) is {np.dtype(t)}\")\n",
    "    return type(a) == np.dtype(t)\n",
    "\n",
    "import numpy as np\n",
    "a = np.random.randint(10, size=6) \n",
    "\n",
    "# 測試一\n",
    "print('Ans 1:type(a) == np.dtype(t) return ',is_dtype(a, 'int'),'\\n') # False\n",
    "\n",
    "# 測試二\n",
    "print('Ans 2:type(a) == np.dtype(t) return ',is_dtype(a, np.int),'\\n') # False\n",
    "\n",
    "# 測試三\n",
    "print('Ans 3:type(a) == np.dtype(t) return ',is_dtype(a, np.dtype('int')),'\\n') # False\n",
    "\n",
    "# 測試四 numpy.int32 == int32\n",
    "print('Ans 4:type(a[0]) == np.dtype(t) return ',is_dtype(a[0], 'int'),'\\n') # True "
   ]
  },
  {
   "cell_type": "code",
   "execution_count": 10,
   "metadata": {
    "id": "XOPQVru2NgfN"
   },
   "outputs": [
    {
     "name": "stdout",
     "output_type": "stream",
     "text": [
      "a is [8 0 9 7 8 8]\n",
      "type([8 0 9 7 8 8]) is <class 'numpy.ndarray'>\n",
      "t is int,type(int) is <class 'str'>\n",
      "np.dtype(int) is int32\n",
      "Ans 1:type(a) is np.dtype(t) return  False \n",
      "\n",
      "a is [8 0 9 7 8 8]\n",
      "type([8 0 9 7 8 8]) is <class 'numpy.ndarray'>\n",
      "t is <class 'int'>,type(<class 'int'>) is <class 'type'>\n",
      "np.dtype(<class 'int'>) is int32\n",
      "Ans 2:type(a) is np.dtype(t) return  False \n",
      "\n",
      "a is [8 0 9 7 8 8]\n",
      "type([8 0 9 7 8 8]) is <class 'numpy.ndarray'>\n",
      "t is int32,type(int32) is <class 'numpy.dtype'>\n",
      "np.dtype(int32) is int32\n",
      "Ans 3:type(a) is np.dtype(t) return  False \n",
      "\n"
     ]
    }
   ],
   "source": [
    "def is_dtype(a, t):\n",
    "    print(f\"a is {a}\\ntype({a}) is {type(a)}\\nt is {t},type({t}) is {type(t)}\\nnp.dtype({t}) is {np.dtype(t)}\")\n",
    "    return type(a) is np.dtype(t)\n",
    "\n",
    "import numpy as np\n",
    "a = np.random.randint(10, size=6) \n",
    "\n",
    "# 測試一\n",
    "print('Ans 1:type(a) is np.dtype(t) return ',is_dtype(a, 'int'),'\\n') # False\n",
    "\n",
    "# 測試二\n",
    "print('Ans 2:type(a) is np.dtype(t) return ',is_dtype(a, np.int),'\\n') # False\n",
    "\n",
    "# 測試三\n",
    "print('Ans 3:type(a) is np.dtype(t) return ',is_dtype(a, np.dtype('int')),'\\n') # False\n"
   ]
  },
  {
   "cell_type": "code",
   "execution_count": 11,
   "metadata": {},
   "outputs": [
    {
     "name": "stdout",
     "output_type": "stream",
     "text": [
      "a is int32\n",
      "type(int32) is <class 'numpy.dtype'>\n",
      "t is int,type(int) is <class 'str'>\n",
      "np.dtype(int) is int32\n",
      "Ans 1:a is np.dtype(t) return  True \n",
      "\n",
      "a is int32\n",
      "type(int32) is <class 'numpy.dtype'>\n",
      "t is <class 'int'>,type(<class 'int'>) is <class 'type'>\n",
      "np.dtype(<class 'int'>) is int32\n",
      "Ans 2:a is np.dtype(t) return  True \n",
      "\n",
      "a is int32\n",
      "type(int32) is <class 'numpy.dtype'>\n",
      "t is int32,type(int32) is <class 'numpy.dtype'>\n",
      "np.dtype(int32) is int32\n",
      "Ans 3:a is np.dtype(t) return  True \n",
      "\n"
     ]
    }
   ],
   "source": [
    "def is_dtype(a, t):\n",
    "    print(f\"a is {a}\\ntype({a}) is {type(a)}\\nt is {t},type({t}) is {type(t)}\\nnp.dtype({t}) is {np.dtype(t)}\")\n",
    "    return a is np.dtype(t)\n",
    "\n",
    "import numpy as np\n",
    "a = np.random.randint(10, size=6) \n",
    "\n",
    "# 測試一 numpy.int32 not is int32\n",
    "print('Ans 1:a is np.dtype(t) return ',is_dtype(a.dtype, 'int'),'\\n') # True   \n",
    "\n",
    "# 測試二\n",
    "print('Ans 2:a is np.dtype(t) return ',is_dtype(a.dtype, np.int),'\\n') # True \n",
    "\n",
    "# 測試三\n",
    "print('Ans 3:a is np.dtype(t) return ',is_dtype(a.dtype, np.dtype('int')),'\\n') # True \n"
   ]
  },
  {
   "cell_type": "code",
   "execution_count": 12,
   "metadata": {},
   "outputs": [
    {
     "name": "stdout",
     "output_type": "stream",
     "text": [
      "a is int32\n",
      "type(int32) is <class 'numpy.dtype'>\n",
      "t is int,type(int) is <class 'str'>\n",
      "np.dtype(int) is int32\n",
      "Ans 1:a[0].dtype is np.dtype(t) return  True \n",
      "\n",
      "a is int32\n",
      "type(int32) is <class 'numpy.dtype'>\n",
      "t is <class 'int'>,type(<class 'int'>) is <class 'type'>\n",
      "np.dtype(<class 'int'>) is int32\n",
      "Ans 2:a[0].dtype is np.dtype(t) return  True \n",
      "\n",
      "a is int32\n",
      "type(int32) is <class 'numpy.dtype'>\n",
      "t is int32,type(int32) is <class 'numpy.dtype'>\n",
      "np.dtype(int32) is int32\n",
      "Ans 3:a[0].dtype is np.dtype(t) return  True \n",
      "\n"
     ]
    }
   ],
   "source": [
    "def is_dtype(a, t):\n",
    "    print(f\"a is {a}\\ntype({a}) is {type(a)}\\nt is {t},type({t}) is {type(t)}\\nnp.dtype({t}) is {np.dtype(t)}\")\n",
    "    return a is np.dtype(t)\n",
    "\n",
    "import numpy as np\n",
    "a = np.random.randint(10, size=6) \n",
    "\n",
    "# 測試一 numpy.int32 not is int32\n",
    "print('Ans 1:a[0].dtype is np.dtype(t) return ',is_dtype(a[0].dtype, 'int'),'\\n') # True   \n",
    "\n",
    "# 測試二\n",
    "print('Ans 2:a[0].dtype is np.dtype(t) return ',is_dtype(a[0].dtype, np.int),'\\n') # True \n",
    "\n",
    "# 測試三\n",
    "print('Ans 3:a[0].dtype is np.dtype(t) return ',is_dtype(a[0].dtype, np.dtype('int')),'\\n') # True \n"
   ]
  },
  {
   "cell_type": "code",
   "execution_count": null,
   "metadata": {},
   "outputs": [],
   "source": []
  }
 ],
 "metadata": {
  "colab": {
   "name": "02 Homework.ipynb",
   "provenance": []
  },
  "kernelspec": {
   "display_name": "Python 3",
   "language": "python",
   "name": "python3"
  },
  "language_info": {
   "codemirror_mode": {
    "name": "ipython",
    "version": 3
   },
   "file_extension": ".py",
   "mimetype": "text/x-python",
   "name": "python",
   "nbconvert_exporter": "python",
   "pygments_lexer": "ipython3",
   "version": "3.8.5"
  }
 },
 "nbformat": 4,
 "nbformat_minor": 1
}
