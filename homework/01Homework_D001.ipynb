{
 "cells": [
  {
   "cell_type": "markdown",
   "metadata": {
    "id": "P6xk2_jLsvFF"
   },
   "source": [
    "# [作業目標]\n",
    "\n",
    "1. [簡答題] 請問下列兩種將 Array 轉換成 List 的方式有何不同？\n",
    "\n",
    "```\n",
    "print('list(a): ', list(a))\n",
    "print('tolist(): ', a.tolist())\n",
    "```\n",
    "\n",
    "2. 請試著在程式中印出以下三個 NdArray 的屬性？（屬性：ndim、shape、size、dtype、itemsize、length、type）\n",
    "\n",
    "```\n",
    "a = np.random.randint(10, size=6) \n",
    "b = np.random.randint(10, size=(3,4)) \n",
    "c = np.random.randint(10, size=(2,3,2)) \n",
    "```\n",
    "\n",
    "3. 如何利用 list(...) 實現 a.tolist() 的效果？試著用程式實作。\n"
   ]
  },
  {
   "cell_type": "markdown",
   "metadata": {
    "id": "uXGll28asvFS"
   },
   "source": [
    "# 作業 "
   ]
  },
  {
   "cell_type": "markdown",
   "metadata": {
    "id": "SYkvkp9YLwB7"
   },
   "source": [
    "### 1. [簡答題] 請問下列兩種將 Array 轉換成 List 的方式有何不同？\n",
    "\n",
    "```\n",
    "print('list(a): ', list(a))\n",
    "print('tolist(): ', a.tolist())\n",
    "```\n"
   ]
  },
  {
   "cell_type": "code",
   "execution_count": 1,
   "metadata": {
    "id": "5QrYoyNWsvFS",
    "outputId": "13f374d0-6f1b-47aa-bbac-c7d1a8c6995c"
   },
   "outputs": [],
   "source": [
    "def pl(l): # 輸出字串\n",
    "    if l.ndim == 1:\n",
    "        s = str(l.ndim) + \"D\"        \n",
    "    else:        \n",
    "        s = str(l.ndim) + \"D\"        \n",
    "    print(f'輸入的:{l}是{s}陣列')\n",
    "    print(f'{s}陣列的類別是{type(l)}')\n",
    "    print(f'{s}第一個儲存值:{l[0]}\\n{s}第一個儲存值類別:{type(l[0])}')\n",
    "    print(f'使用list({s})轉換後:')    \n",
    "    print(f'list({s})的數值:{(list(l))}\\nlist({s})的類別:{type(list(l))} \\\n",
    "        \\nlist({s})第一個儲存值:{list(l)[0]}\\nlist({s})第一個儲存值類別:{type(list(l)[0])}')\n",
    "    print(f'使用{s}.tolist()轉換後:')\n",
    "    print(f'{s}.tolist()值:{l.tolist()}\\n{s}.tolist()類別:{type(l.tolist())} \\\n",
    "          \\n{s}.tolist()第一個儲存值:{l.tolist()[0]}\\n{s}.tolist()第一個儲存值類別:{type(l.tolist()[0])}')\n",
    "    print(f'list({s})和{s}.tolist()第一個值是否相同:{list(l)[0]==l.tolist()[0]}')\n",
    "    print(f'list({s})和{s}.tolist()第一個值類別是否相同:{type(list(l)[0])==type(l.tolist()[0])}')\n",
    "    \n",
    "    \"\"\" #1\n",
    "    執行結論\n",
    "    list(array):\n",
    "        一次只下降一個維度,np儲存值類別不變\n",
    "    array.tolist()\n",
    "        儲存值類別改變,list型態及儲存基本型態\n",
    "    \"\"\"\n",
    "\n",
    "import numpy as np\n",
    "a = np.arange(15)\n",
    "b = np.arange(15).reshape(3,5)\n",
    "c = np.arange(36).reshape(3,4,3)"
   ]
  },
  {
   "cell_type": "code",
   "execution_count": 2,
   "metadata": {},
   "outputs": [
    {
     "name": "stdout",
     "output_type": "stream",
     "text": [
      "輸入的:[ 0  1  2  3  4  5  6  7  8  9 10 11 12 13 14]是1D陣列\n",
      "1D陣列的類別是<class 'numpy.ndarray'>\n",
      "1D第一個儲存值:0\n",
      "1D第一個儲存值類別:<class 'numpy.int32'>\n",
      "使用list(1D)轉換後:\n",
      "list(1D)的數值:[0, 1, 2, 3, 4, 5, 6, 7, 8, 9, 10, 11, 12, 13, 14]\n",
      "list(1D)的類別:<class 'list'>         \n",
      "list(1D)第一個儲存值:0\n",
      "list(1D)第一個儲存值類別:<class 'numpy.int32'>\n",
      "使用1D.tolist()轉換後:\n",
      "1D.tolist()值:[0, 1, 2, 3, 4, 5, 6, 7, 8, 9, 10, 11, 12, 13, 14]\n",
      "1D.tolist()類別:<class 'list'>           \n",
      "1D.tolist()第一個儲存值:0\n",
      "1D.tolist()第一個儲存值類別:<class 'int'>\n",
      "list(1D)和1D.tolist()第一個值是否相同:True\n",
      "list(1D)和1D.tolist()第一個值類別是否相同:False\n"
     ]
    }
   ],
   "source": [
    "pl(a)"
   ]
  },
  {
   "cell_type": "code",
   "execution_count": 3,
   "metadata": {},
   "outputs": [
    {
     "name": "stdout",
     "output_type": "stream",
     "text": [
      "輸入的:[[ 0  1  2  3  4]\n",
      " [ 5  6  7  8  9]\n",
      " [10 11 12 13 14]]是2D陣列\n",
      "2D陣列的類別是<class 'numpy.ndarray'>\n",
      "2D第一個儲存值:[0 1 2 3 4]\n",
      "2D第一個儲存值類別:<class 'numpy.ndarray'>\n",
      "使用list(2D)轉換後:\n",
      "list(2D)的數值:[array([0, 1, 2, 3, 4]), array([5, 6, 7, 8, 9]), array([10, 11, 12, 13, 14])]\n",
      "list(2D)的類別:<class 'list'>         \n",
      "list(2D)第一個儲存值:[0 1 2 3 4]\n",
      "list(2D)第一個儲存值類別:<class 'numpy.ndarray'>\n",
      "使用2D.tolist()轉換後:\n",
      "2D.tolist()值:[[0, 1, 2, 3, 4], [5, 6, 7, 8, 9], [10, 11, 12, 13, 14]]\n",
      "2D.tolist()類別:<class 'list'>           \n",
      "2D.tolist()第一個儲存值:[0, 1, 2, 3, 4]\n",
      "2D.tolist()第一個儲存值類別:<class 'list'>\n",
      "list(2D)和2D.tolist()第一個值是否相同:[ True  True  True  True  True]\n",
      "list(2D)和2D.tolist()第一個值類別是否相同:False\n"
     ]
    }
   ],
   "source": [
    "pl(b)"
   ]
  },
  {
   "cell_type": "code",
   "execution_count": 4,
   "metadata": {},
   "outputs": [
    {
     "name": "stdout",
     "output_type": "stream",
     "text": [
      "輸入的:[[[ 0  1  2]\n",
      "  [ 3  4  5]\n",
      "  [ 6  7  8]\n",
      "  [ 9 10 11]]\n",
      "\n",
      " [[12 13 14]\n",
      "  [15 16 17]\n",
      "  [18 19 20]\n",
      "  [21 22 23]]\n",
      "\n",
      " [[24 25 26]\n",
      "  [27 28 29]\n",
      "  [30 31 32]\n",
      "  [33 34 35]]]是3D陣列\n",
      "3D陣列的類別是<class 'numpy.ndarray'>\n",
      "3D第一個儲存值:[[ 0  1  2]\n",
      " [ 3  4  5]\n",
      " [ 6  7  8]\n",
      " [ 9 10 11]]\n",
      "3D第一個儲存值類別:<class 'numpy.ndarray'>\n",
      "使用list(3D)轉換後:\n",
      "list(3D)的數值:[array([[ 0,  1,  2],\n",
      "       [ 3,  4,  5],\n",
      "       [ 6,  7,  8],\n",
      "       [ 9, 10, 11]]), array([[12, 13, 14],\n",
      "       [15, 16, 17],\n",
      "       [18, 19, 20],\n",
      "       [21, 22, 23]]), array([[24, 25, 26],\n",
      "       [27, 28, 29],\n",
      "       [30, 31, 32],\n",
      "       [33, 34, 35]])]\n",
      "list(3D)的類別:<class 'list'>         \n",
      "list(3D)第一個儲存值:[[ 0  1  2]\n",
      " [ 3  4  5]\n",
      " [ 6  7  8]\n",
      " [ 9 10 11]]\n",
      "list(3D)第一個儲存值類別:<class 'numpy.ndarray'>\n",
      "使用3D.tolist()轉換後:\n",
      "3D.tolist()值:[[[0, 1, 2], [3, 4, 5], [6, 7, 8], [9, 10, 11]], [[12, 13, 14], [15, 16, 17], [18, 19, 20], [21, 22, 23]], [[24, 25, 26], [27, 28, 29], [30, 31, 32], [33, 34, 35]]]\n",
      "3D.tolist()類別:<class 'list'>           \n",
      "3D.tolist()第一個儲存值:[[0, 1, 2], [3, 4, 5], [6, 7, 8], [9, 10, 11]]\n",
      "3D.tolist()第一個儲存值類別:<class 'list'>\n",
      "list(3D)和3D.tolist()第一個值是否相同:[[ True  True  True]\n",
      " [ True  True  True]\n",
      " [ True  True  True]\n",
      " [ True  True  True]]\n",
      "list(3D)和3D.tolist()第一個值類別是否相同:False\n"
     ]
    }
   ],
   "source": [
    "pl(c)"
   ]
  },
  {
   "cell_type": "markdown",
   "metadata": {
    "id": "AC9wUCyALwB9"
   },
   "source": [
    "### 2. 請試著在程式中印出以下三個 NdArray 的屬性並且解釋結果？（屬性：ndim、shape、size、dtype、itemsize、length、type）\n",
    "\n",
    "```\n",
    "a = np.random.randint(10, size=6) \n",
    "b = np.random.randint(10, size=(3,4)) \n",
    "c = np.random.randint(10, size=(2,3,2)) \n",
    "```"
   ]
  },
  {
   "cell_type": "code",
   "execution_count": 5,
   "metadata": {
    "id": "4qARRsdtLwB-"
   },
   "outputs": [],
   "source": [
    "# 記得先 Import 正確的套件\n",
    "\n",
    "import numpy as np"
   ]
  },
  {
   "cell_type": "code",
   "execution_count": 6,
   "metadata": {},
   "outputs": [],
   "source": [
    "def np_att(inp): # np的屬性\n",
    "    print(inp)\n",
    "    print(inp.ndim)\n",
    "    print(inp.shape)\n",
    "    print(inp.size)\n",
    "    print(inp.dtype)\n",
    "    print(inp.itemsize)\n",
    "    print(len(inp))\n",
    "    print(type(inp))"
   ]
  },
  {
   "cell_type": "code",
   "execution_count": 7,
   "metadata": {
    "id": "e1gVI0tvsvFY",
    "outputId": "9be10770-9042-40c8-c4bc-217b84be9fc9"
   },
   "outputs": [
    {
     "name": "stdout",
     "output_type": "stream",
     "text": [
      "[8 1 0 4 4 8]\n",
      "1\n",
      "(6,)\n",
      "6\n",
      "int32\n",
      "4\n",
      "6\n",
      "<class 'numpy.ndarray'>\n"
     ]
    }
   ],
   "source": [
    "a = np.random.randint(10, size=6) #2\n",
    "\n",
    "np_att(a)"
   ]
  },
  {
   "cell_type": "code",
   "execution_count": 8,
   "metadata": {
    "id": "iIJrIr7kLwB_",
    "outputId": "083c5519-394c-404e-9764-100c4ed5118a"
   },
   "outputs": [
    {
     "name": "stdout",
     "output_type": "stream",
     "text": [
      "[[6 0 7 4]\n",
      " [6 0 5 2]\n",
      " [4 8 2 5]]\n",
      "2\n",
      "(3, 4)\n",
      "12\n",
      "int32\n",
      "4\n",
      "3\n",
      "<class 'numpy.ndarray'>\n"
     ]
    }
   ],
   "source": [
    "b = np.random.randint(10, size=(3,4)) #2\n",
    "\n",
    "np_att(b)"
   ]
  },
  {
   "cell_type": "code",
   "execution_count": 9,
   "metadata": {
    "id": "98SRFh_FLwCC",
    "outputId": "dc65dfac-9ae6-49d2-f854-88eccebc2aac"
   },
   "outputs": [
    {
     "name": "stdout",
     "output_type": "stream",
     "text": [
      "[[[2 2]\n",
      "  [7 0]\n",
      "  [9 4]]\n",
      "\n",
      " [[1 6]\n",
      "  [3 4]\n",
      "  [4 0]]]\n",
      "3\n",
      "(2, 3, 2)\n",
      "12\n",
      "int32\n",
      "4\n",
      "2\n",
      "<class 'numpy.ndarray'>\n"
     ]
    }
   ],
   "source": [
    "c = np.random.randint(10, size=(2,3,2)) #2\n",
    "\n",
    "np_att(c)"
   ]
  },
  {
   "cell_type": "markdown",
   "metadata": {
    "id": "Uf6zC0QZLwCE"
   },
   "source": [
    "### 3. 如何利用 list(...) 實現 a.tolist() 的效果？試著用程式實作。\n"
   ]
  },
  {
   "cell_type": "code",
   "execution_count": 10,
   "metadata": {
    "id": "sCUzHu_BLwCF",
    "outputId": "ba9c8945-8efb-42b1-f978-2bbdda97accd"
   },
   "outputs": [
    {
     "name": "stdout",
     "output_type": "stream",
     "text": [
      "[2, 7, 7, 3, 5, 9]\n",
      "[2, 7, 7, 3, 5, 9]\n"
     ]
    }
   ],
   "source": [
    "a = np.random.randint(10, size=6) \n",
    "\n",
    "print(a.tolist())\n",
    "print(list(a))\n"
   ]
  },
  {
   "cell_type": "code",
   "execution_count": 11,
   "metadata": {
    "id": "IUkVtw8RLwCG",
    "outputId": "e39875a5-5ec7-431b-c12a-485acc167e44"
   },
   "outputs": [
    {
     "name": "stdout",
     "output_type": "stream",
     "text": [
      "[[4, 6, 8, 5], [0, 5, 1, 7], [2, 6, 6, 6]]\n",
      "[array([4, 6, 8, 5]), array([0, 5, 1, 7]), array([2, 6, 6, 6])]\n"
     ]
    }
   ],
   "source": [
    "b = np.random.randint(10, size=(3,4)) \n",
    "\n",
    "print(b.tolist())\n",
    "print(list(b))\n"
   ]
  },
  {
   "cell_type": "code",
   "execution_count": 12,
   "metadata": {
    "id": "NPhF8_CqLwCG",
    "outputId": "51fab908-5bfd-415f-9584-92bb376648c8"
   },
   "outputs": [
    {
     "name": "stdout",
     "output_type": "stream",
     "text": [
      "[[[4, 5], [3, 9], [1, 1]], [[3, 7], [3, 4], [6, 0]]]\n",
      "[array([[4, 5],\n",
      "       [3, 9],\n",
      "       [1, 1]]), array([[3, 7],\n",
      "       [3, 4],\n",
      "       [6, 0]])]\n"
     ]
    }
   ],
   "source": [
    "c = np.random.randint(10, size=(2,3,2)) \n",
    "\n",
    "print(c.tolist())\n",
    "print(list(c))\n"
   ]
  },
  {
   "cell_type": "code",
   "execution_count": 13,
   "metadata": {},
   "outputs": [
    {
     "name": "stdout",
     "output_type": "stream",
     "text": [
      "a [2, 1, 1, 4, 3, 5]\n",
      "b [[8, 7, 6, 1], [7, 3, 2, 7], [4, 4, 5, 7]]\n",
      "c [[[5, 1], [4, 0], [2, 0]], [[3, 0], [9, 1], [6, 2]]]\n"
     ]
    }
   ],
   "source": [
    "def tolist(iterable): #3\n",
    "    if iterable.ndim == 1:\n",
    "        iterable = list(iterable)\n",
    "        return [int(i) for i in iterable] # 限定作業使用\n",
    "    return [tolist(i) for i in iterable]\n",
    "\n",
    "a = np.random.randint(10, size=6)\n",
    "b = np.random.randint(10, size=(3,4)) \n",
    "c = np.random.randint(10, size=(2,3,2)) \n",
    "print(\"a\",tolist(a))\n",
    "print(\"b\",tolist(b))\n",
    "print(\"c\",tolist(c))"
   ]
  },
  {
   "cell_type": "code",
   "execution_count": 14,
   "metadata": {
    "id": "3Hc8vQYtLwCH",
    "outputId": "1290bc93-84ca-4da4-eb1a-315da37afaff"
   },
   "outputs": [
    {
     "name": "stdout",
     "output_type": "stream",
     "text": [
      "a [1, 7, 3, 5, 6, 1]\n",
      "b [[2, 9, 9, 1], [1, 8, 5, 2], [0, 3, 6, 1]]\n",
      "c [[[1, 5], [6, 0], [2, 7]], [[1, 5], [5, 7], [2, 6]]]\n",
      "==================================================  各轉換型態比較\n",
      "a:\n",
      "\n",
      "a[0]=1,\ta[0] type:<class 'numpy.int32'>\n",
      "list(a[0])=1,\tlist(a[0]) type:<class 'numpy.int32'>\n",
      "a[0].tolist()=1,\ta[0].tolist() type:<class 'int'>\n",
      "tolist(a[0])=1,\ttolist(a[0]) type:<class 'int'>\n",
      "a[0].tolist()和tolist(a[0]值是否相同:True\n",
      "a[0].tolist()和tolist(a[0]類別是否相同:True\n",
      "b:\n",
      "\n",
      "b[0]=[2 9 9 1],\tb[0] type:<class 'numpy.ndarray'>\n",
      "list(b[0])=[2 9 9 1],\tlist(b[0]) type:<class 'numpy.ndarray'>\n",
      "b[0].tolist()=[2, 9, 9, 1],\tb[0].tolist() type:<class 'list'>\n",
      "tolist(b[0])=[2, 9, 9, 1],\ttolist(b[0]) type:<class 'list'>\n",
      "b[0].tolist()和tolist(b[0]值是否相同:True\n",
      "b[0].tolist()和tolist(b[0]類別是否相同:True\n",
      "c:\n",
      "\n",
      "c[0]=[2 9 9 1],\tc[0] type:<class 'numpy.ndarray'>\n",
      "list(c[0])=[2 9 9 1],\tlist(c[0]) type:<class 'numpy.ndarray'>\n",
      "c[0].tolist()=[2, 9, 9, 1],\tc[0].tolist() type:<class 'list'>\n",
      "tolist(c[0])=[2, 9, 9, 1],\ttolist(c[0]) type:<class 'list'>\n",
      "c[0].tolist()和tolist(c[0]值是否相同:True\n",
      "c[0].tolist()和tolist(c[0]類別是否相同:True\n"
     ]
    }
   ],
   "source": [
    "def check_np_type(s,num):\n",
    "    print_list = []\n",
    "    print_list.append(f\"{s}[0]={num[0]},\\t{s}[0] type:{type(num[0])}\")\n",
    "    print_list.append(f\"list({s}[0])={list(num)[0]},\\tlist({s}[0]) type:{type(list(num)[0])}\")\n",
    "    print_list.append(f\"{s}[0].tolist()={num[0].tolist()},\\t{s}[0].tolist() type:{type(num[0].tolist())}\")\n",
    "    print_list.append(f\"tolist({s}[0])={tolist(num)[0]},\\ttolist({s}[0]) type:{type(tolist(num)[0])}\")\n",
    "    print_list.append(f\"{s}[0].tolist()和tolist({s}[0]值是否相同:{num[0].tolist()==tolist(num)[0]}\")\n",
    "    print_list.append(f\"{s}[0].tolist()和tolist({s}[0]類別是否相同:{type(num[0].tolist())==type(tolist(num)[0])}\")\n",
    "    for i in print_list:\n",
    "        print(i)\n",
    "\n",
    "def tolist(iterable):\n",
    "    if iterable.ndim == 1:\n",
    "        iterable = list(iterable)\n",
    "        return [int(i) for i in iterable] # 限定作業使用\n",
    "    return [tolist(i) for i in iterable]\n",
    "\n",
    "a = np.random.randint(10, size=6)\n",
    "b = np.random.randint(10, size=(3,4)) \n",
    "c = np.random.randint(10, size=(2,3,2)) \n",
    "print(\"a\",tolist(a))\n",
    "print(\"b\",tolist(b))\n",
    "print(\"c\",tolist(c))\n",
    "print(\"=\"*50,\" 各轉換型態比較\")\n",
    "print(\"a:\\n\")\n",
    "check_np_type(\"a\",a)\n",
    "print(\"b:\\n\")\n",
    "check_np_type(\"b\",b)\n",
    "print(\"c:\\n\")\n",
    "check_np_type(\"c\",b)"
   ]
  },
  {
   "cell_type": "code",
   "execution_count": 15,
   "metadata": {},
   "outputs": [],
   "source": [
    "def cpt(npt): # 確認型別\n",
    "    print(npt,type(npt))    \n",
    "    print(npt.tolist(),type(npt.tolist()))\n",
    "    print(tolist(npt),type(tolist(npt)))\n",
    "    a=npt\n",
    "    b=npt.tolist()\n",
    "    c=tolist(npt)\n",
    "    print(a[0],type(a[0]))\n",
    "    print(b[0],type(b[0]))\n",
    "    print(c[0],type(c[0]))"
   ]
  },
  {
   "cell_type": "code",
   "execution_count": 16,
   "metadata": {
    "id": "2lDVOwFpLwCJ",
    "outputId": "ddfa84e4-3d32-4a68-c250-f57b2f66d830"
   },
   "outputs": [
    {
     "name": "stdout",
     "output_type": "stream",
     "text": [
      "[7 1 2 0 2 2] <class 'numpy.ndarray'>\n",
      "[7, 1, 2, 0, 2, 2] <class 'list'>\n",
      "[7, 1, 2, 0, 2, 2] <class 'list'>\n",
      "7 <class 'numpy.int32'>\n",
      "7 <class 'int'>\n",
      "7 <class 'int'>\n"
     ]
    }
   ],
   "source": [
    "a = np.random.randint(10, size=6)\n",
    "\n",
    "cpt(a)"
   ]
  },
  {
   "cell_type": "code",
   "execution_count": 17,
   "metadata": {
    "id": "tvqCpuFILwCK"
   },
   "outputs": [
    {
     "name": "stdout",
     "output_type": "stream",
     "text": [
      "[[7 9 8 9]\n",
      " [7 5 6 8]\n",
      " [7 1 1 5]] <class 'numpy.ndarray'>\n",
      "[[7, 9, 8, 9], [7, 5, 6, 8], [7, 1, 1, 5]] <class 'list'>\n",
      "[[7, 9, 8, 9], [7, 5, 6, 8], [7, 1, 1, 5]] <class 'list'>\n",
      "[7 9 8 9] <class 'numpy.ndarray'>\n",
      "[7, 9, 8, 9] <class 'list'>\n",
      "[7, 9, 8, 9] <class 'list'>\n"
     ]
    }
   ],
   "source": [
    "b = np.random.randint(10, size=(3,4)) \n",
    "\n",
    "cpt(b)"
   ]
  },
  {
   "cell_type": "code",
   "execution_count": 18,
   "metadata": {
    "id": "640whg6NLwCK"
   },
   "outputs": [
    {
     "name": "stdout",
     "output_type": "stream",
     "text": [
      "[[[7 3]\n",
      "  [0 9]\n",
      "  [2 4]]\n",
      "\n",
      " [[6 5]\n",
      "  [8 0]\n",
      "  [3 1]]] <class 'numpy.ndarray'>\n",
      "[[[7, 3], [0, 9], [2, 4]], [[6, 5], [8, 0], [3, 1]]] <class 'list'>\n",
      "[[[7, 3], [0, 9], [2, 4]], [[6, 5], [8, 0], [3, 1]]] <class 'list'>\n",
      "[[7 3]\n",
      " [0 9]\n",
      " [2 4]] <class 'numpy.ndarray'>\n",
      "[[7, 3], [0, 9], [2, 4]] <class 'list'>\n",
      "[[7, 3], [0, 9], [2, 4]] <class 'list'>\n"
     ]
    }
   ],
   "source": [
    "c = np.random.randint(10, size=(2,3,2)) \n",
    "\n",
    "cpt(c)"
   ]
  }
 ],
 "metadata": {
  "colab": {
   "name": "01Homework_維元.ipynb",
   "provenance": []
  },
  "kernelspec": {
   "display_name": "Python 3",
   "language": "python",
   "name": "python3"
  },
  "language_info": {
   "codemirror_mode": {
    "name": "ipython",
    "version": 3
   },
   "file_extension": ".py",
   "mimetype": "text/x-python",
   "name": "python",
   "nbconvert_exporter": "python",
   "pygments_lexer": "ipython3",
   "version": "3.8.5"
  }
 },
 "nbformat": 4,
 "nbformat_minor": 1
}
