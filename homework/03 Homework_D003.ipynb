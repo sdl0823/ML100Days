{
 "cells": [
  {
   "cell_type": "markdown",
   "metadata": {
    "colab_type": "text",
    "id": "P6xk2_jLsvFF"
   },
   "source": [
    "# [作業目標]\n",
    "\n",
    "1. [簡答題] 請比較 np.zeros 和 np.empty 產生出來的陣列有何差異？為什麼要設計兩種方法？\n",
    "\n",
    "```\n",
    "print(np.zeros((2, 3)))\n",
    "print(np.empty((2, 3)))\n",
    "```\n",
    "\n",
    "2. 在不用「整數亂數方法」的限制下，如何將包含小數的轉換整數？請將給定的 a 陣列當中的元素變成去掉小數變成整數。\n",
    "3. 承上題，怎樣可以限制整數的範圍介於 m - n 之間？請將給定的 a 陣列當中的元素的範圍調整成 m - n 之間。"
   ]
  },
  {
   "cell_type": "markdown",
   "metadata": {
    "colab_type": "text",
    "id": "uXGll28asvFS"
   },
   "source": [
    "# 作業 "
   ]
  },
  {
   "cell_type": "markdown",
   "metadata": {},
   "source": [
    "### 1. [簡答題] 請比較 np.zeros 和 np.empty 產生出來的陣列有何差異？為什麼要設計兩種方法？\n",
    "\n",
    "```\n",
    "print(np.zeros((2, 3)))\n",
    "print(np.empty((2, 3)))\n",
    "```\n"
   ]
  },
  {
   "cell_type": "code",
   "execution_count": 1,
   "metadata": {
    "colab": {},
    "colab_type": "code",
    "id": "5QrYoyNWsvFS"
   },
   "outputs": [
    {
     "data": {
      "text/plain": [
       "' 參考答案\\nnp.zeros((2, 3)) 會產生真正的 0；np.empty((2, 3)) 會產生一個近似於 0 的陣列\\nnp.empty 可以用於只是想要初始化，但之後就會數值覆寫過的情況。\\n'"
      ]
     },
     "execution_count": 1,
     "metadata": {},
     "output_type": "execute_result"
    }
   ],
   "source": [
    "''' 參考答案\n",
    "np.zeros((2, 3)) 會產生真正的 0；np.empty((2, 3)) 會產生一個近似於 0 的陣列\n",
    "np.empty 可以用於只是想要初始化，但之後就會數值覆寫過的情況。\n",
    "'''"
   ]
  },
  {
   "cell_type": "code",
   "execution_count": 2,
   "metadata": {},
   "outputs": [
    {
     "name": "stdout",
     "output_type": "stream",
     "text": [
      "a 初始值:[[0. 0. 0.]\n",
      " [0. 0. 0.]]\n",
      "b 初始值:[[2.67020237e-307 4.45047451e-308 3.22648781e-307]\n",
      " [4.45039557e-307 2.22519099e-307 3.44898841e-307]]\n"
     ]
    }
   ],
   "source": [
    "import numpy as np\n",
    "a = np.zeros((2, 3))\n",
    "b = np.empty((2, 3))\n",
    "print(f'a 初始值:{a}')\n",
    "print(f'b 初始值:{b}')"
   ]
  },
  {
   "cell_type": "code",
   "execution_count": 3,
   "metadata": {},
   "outputs": [
    {
     "name": "stdout",
     "output_type": "stream",
     "text": [
      "a 初始值:[[0. 0. 0.]\n",
      " [0. 0. 0.]]\n",
      "b 初始值:[[0. 0. 0.]\n",
      " [0. 0. 0.]]\n"
     ]
    }
   ],
   "source": [
    "a = np.zeros((2, 3))\n",
    "b = np.empty((2, 3))\n",
    "print(f'a 初始值:{a}')\n",
    "print(f'b 初始值:{b}') # 覆寫 a"
   ]
  },
  {
   "cell_type": "code",
   "execution_count": 4,
   "metadata": {},
   "outputs": [
    {
     "name": "stdout",
     "output_type": "stream",
     "text": [
      "a 初始值:[[60.87062174 71.90025298 72.94688764]\n",
      " [85.50197247 92.47804279 48.72097754]]\n",
      "b 初始值:[[60.87062174 71.90025298 72.94688764]\n",
      " [85.50197247 92.47804279 48.72097754]]\n"
     ]
    }
   ],
   "source": [
    "a = np.random.rand(2, 3)\n",
    "a = a * 100\n",
    "b = np.empty((2, 3)) * 100\n",
    "print(f'a 初始值:{a}')\n",
    "print(f'b 初始值:{b}') # 覆寫 a"
   ]
  },
  {
   "cell_type": "code",
   "execution_count": 5,
   "metadata": {},
   "outputs": [
    {
     "name": "stdout",
     "output_type": "stream",
     "text": [
      "a 初始值:[[0. 0. 0.]\n",
      " [0. 0. 0.]]\n",
      "b 初始值:[[60.87062174 71.90025298 72.94688764]\n",
      " [85.50197247 92.47804279 48.72097754]]\n"
     ]
    }
   ],
   "source": [
    "a = np.zeros((2, 3))\n",
    "b = np.empty((2, 3))\n",
    "print(f'a 初始值:{a}')\n",
    "print(f'b 初始值:{b}') # 上一執行 b"
   ]
  },
  {
   "cell_type": "markdown",
   "metadata": {},
   "source": [
    "<ul>\n",
    "    <li>In[2] 第一次執行初始值 empty 會亂數趨近於 0</li>\n",
    "    <li>In[3] 和 In[4] b 數值隨 a 變化</li>\n",
    "    <li>In[5] b 數值為 I[4] 的值</li>\n",
    "</ul>"
   ]
  },
  {
   "cell_type": "markdown",
   "metadata": {},
   "source": [
    "### 2. 在不用「整數亂數方法」的限制下，如何將包含小數的轉換整數？請將給定的 a 陣列當中的元素變成去掉小數變成整數。\n"
   ]
  },
  {
   "cell_type": "code",
   "execution_count": 6,
   "metadata": {},
   "outputs": [
    {
     "name": "stdout",
     "output_type": "stream",
     "text": [
      "[[24.06918608 45.05005143 44.23050674]\n",
      " [13.73953573  9.67913265 43.17745959]]\n"
     ]
    }
   ],
   "source": [
    "# 記得先 Import 正確的套件\n",
    "\n",
    "import numpy as np\n",
    "\n",
    "a = np.random.rand(2, 3)\n",
    "a = a * 100\n",
    "\n",
    "print(a)"
   ]
  },
  {
   "cell_type": "code",
   "execution_count": 7,
   "metadata": {
    "colab": {},
    "colab_type": "code",
    "id": "e1gVI0tvsvFY",
    "scrolled": true
   },
   "outputs": [
    {
     "name": "stdout",
     "output_type": "stream",
     "text": [
      "[[90.31201771 70.12011067 93.92204773]\n",
      " [82.41487189 42.01552029 57.73834773]]\n",
      "[[90. 70. 94.]\n",
      " [82. 42. 58.]]\n",
      "[[90. 70. 94.]\n",
      " [82. 42. 58.]]\n"
     ]
    }
   ],
   "source": [
    "# 參考解答\n",
    "import numpy as np\n",
    "a = np.random.rand(2, 3)\n",
    "a = a * 100\n",
    "\n",
    "print(a)\n",
    "print(a.round())\n",
    "print(np.round(a))"
   ]
  },
  {
   "cell_type": "code",
   "execution_count": 8,
   "metadata": {},
   "outputs": [
    {
     "name": "stdout",
     "output_type": "stream",
     "text": [
      "隨機陣列:\n",
      "[[0.48720601 0.70772072 0.07708166]\n",
      " [0.49982177 0.44915906 0.02428563]]\n",
      "10倍陣列\n",
      "[[4.87206011 7.07720724 0.7708166 ]\n",
      " [4.99821768 4.49159059 0.24285632]]\n",
      "取整數方法一:a.round()\n",
      "[[5. 7. 1.]\n",
      " [5. 4. 0.]]\n",
      "取整數方法二:np.round(a)\n",
      "[[5. 7. 1.]\n",
      " [5. 4. 0.]]\n",
      "100倍陣列\n",
      "[[48.72060107 70.77207236  7.70816604]\n",
      " [49.98217683 44.91590591  2.42856322]]\n",
      "取整數方法一:a.round()\n",
      "[[49. 71.  8.]\n",
      " [50. 45.  2.]]\n",
      "取整數方法二:np.round(a)\n",
      "[[49. 71.  8.]\n",
      " [50. 45.  2.]]\n"
     ]
    }
   ],
   "source": [
    "def na(a,num):\n",
    "    return a * 10 ** num\n",
    "\n",
    "def pa(a): #print array\n",
    "    print(f'隨機陣列:\\n{a}')\n",
    "    for i in range(1,3):\n",
    "        ra = na(a,i)\n",
    "        print(f'{10**i}倍陣列\\n{ra}')\n",
    "        print(f'取整數方法一:a.round()\\n{ra.round()}')\n",
    "        print(f'取整數方法二:np.round(a)\\n{np.round(ra)}')\n",
    "        \n",
    "import numpy as np\n",
    "a = np.random.rand(2, 3)\n",
    "pa(a)"
   ]
  },
  {
   "cell_type": "markdown",
   "metadata": {},
   "source": [
    "### 3. 承上題，怎樣可以限制整數的範圍介於 m - n 之間？請將給定的 a 陣列當中的元素的範圍調整成 m - n 之間。\n"
   ]
  },
  {
   "cell_type": "code",
   "execution_count": 9,
   "metadata": {},
   "outputs": [
    {
     "name": "stdout",
     "output_type": "stream",
     "text": [
      "a:[[ 8.74532837 15.63092745 13.18108957]\n",
      " [19.84793741  2.46602883 10.13969391]]\n",
      "b:[[ 8.74532837 15.63092745 13.18108957]\n",
      " [19.84793741  2.46602883 10.13969391]]\n",
      "介於20-40之間:\n",
      "[[28. 35. 33.]\n",
      " [39. 22. 30.]]\n"
     ]
    }
   ],
   "source": [
    "m = 20\n",
    "n = 40\n",
    "\n",
    "a = np.random.rand(2,3) * (n-m)\n",
    "b =a\n",
    "\n",
    "print(f'a:{a}')\n",
    "print(f'b:{b}')\n",
    "print(f'介於{m}-{n}之間:\\n{(a-b % 1) + m}')"
   ]
  },
  {
   "cell_type": "code",
   "execution_count": null,
   "metadata": {},
   "outputs": [],
   "source": []
  }
 ],
 "metadata": {
  "colab": {
   "name": "Day_023_HW.ipynb",
   "provenance": []
  },
  "kernelspec": {
   "display_name": "Python 3",
   "language": "python",
   "name": "python3"
  },
  "language_info": {
   "codemirror_mode": {
    "name": "ipython",
    "version": 3
   },
   "file_extension": ".py",
   "mimetype": "text/x-python",
   "name": "python",
   "nbconvert_exporter": "python",
   "pygments_lexer": "ipython3",
   "version": "3.8.5"
  }
 },
 "nbformat": 4,
 "nbformat_minor": 1
}
