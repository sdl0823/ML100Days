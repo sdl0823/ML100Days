{
 "cells": [
  {
   "cell_type": "markdown",
   "metadata": {
    "colab_type": "text",
    "id": "P6xk2_jLsvFF"
   },
   "source": [
    "# [作業目標]\n",
    "\n",
    "1. 請比較對一個 100 x 100 * 100 的陣列，使用不同方法對每一個元素 +1 的時間比較。\n",
    "\n",
    "2. 如何從一個陣列中，找出出現頻率最高的數值與位置？\n",
    "\n",
    "3. 如何利用 list(...) 實現 a.tolist() 的效果？試著用程式實作。\n"
   ]
  },
  {
   "cell_type": "markdown",
   "metadata": {
    "colab_type": "text",
    "id": "uXGll28asvFS"
   },
   "source": [
    "# 作業 "
   ]
  },
  {
   "cell_type": "markdown",
   "metadata": {},
   "source": [
    "### 1. 請比較對一個 1000 x 100 x 100 的陣列，使用不同方法對每一個元素 +1 的時間比較。\n",
    "\n",
    "\n"
   ]
  },
  {
   "cell_type": "code",
   "execution_count": 1,
   "metadata": {},
   "outputs": [],
   "source": [
    "# 記得先 Import 正確的套件\n",
    "\n",
    "import numpy as np"
   ]
  },
  {
   "cell_type": "code",
   "execution_count": 2,
   "metadata": {
    "colab": {},
    "colab_type": "code",
    "id": "5QrYoyNWsvFS"
   },
   "outputs": [
    {
     "data": {
      "text/plain": [
       "array([[[0, 6, 9, ..., 7, 7, 9],\n",
       "        [6, 6, 4, ..., 6, 0, 2],\n",
       "        [4, 8, 8, ..., 3, 0, 6],\n",
       "        ...,\n",
       "        [6, 1, 1, ..., 2, 5, 6],\n",
       "        [7, 2, 4, ..., 0, 8, 0],\n",
       "        [0, 1, 1, ..., 6, 6, 1]],\n",
       "\n",
       "       [[1, 5, 5, ..., 0, 5, 4],\n",
       "        [7, 5, 8, ..., 5, 0, 1],\n",
       "        [6, 9, 8, ..., 1, 1, 5],\n",
       "        ...,\n",
       "        [4, 5, 5, ..., 8, 3, 0],\n",
       "        [1, 7, 2, ..., 6, 1, 9],\n",
       "        [0, 8, 0, ..., 6, 8, 5]],\n",
       "\n",
       "       [[3, 5, 6, ..., 8, 8, 2],\n",
       "        [2, 9, 0, ..., 8, 7, 0],\n",
       "        [6, 9, 1, ..., 1, 4, 2],\n",
       "        ...,\n",
       "        [9, 4, 6, ..., 2, 1, 4],\n",
       "        [2, 5, 6, ..., 9, 5, 7],\n",
       "        [6, 9, 6, ..., 1, 7, 6]],\n",
       "\n",
       "       ...,\n",
       "\n",
       "       [[4, 6, 3, ..., 7, 6, 7],\n",
       "        [3, 0, 6, ..., 1, 9, 7],\n",
       "        [3, 9, 3, ..., 9, 7, 0],\n",
       "        ...,\n",
       "        [2, 6, 8, ..., 6, 6, 2],\n",
       "        [6, 8, 5, ..., 8, 3, 3],\n",
       "        [6, 7, 3, ..., 2, 4, 2]],\n",
       "\n",
       "       [[4, 6, 9, ..., 7, 5, 2],\n",
       "        [6, 7, 1, ..., 2, 8, 6],\n",
       "        [6, 4, 6, ..., 9, 6, 8],\n",
       "        ...,\n",
       "        [5, 9, 4, ..., 1, 7, 3],\n",
       "        [2, 7, 6, ..., 6, 7, 9],\n",
       "        [1, 9, 1, ..., 2, 1, 9]],\n",
       "\n",
       "       [[7, 8, 1, ..., 2, 2, 8],\n",
       "        [4, 6, 5, ..., 8, 8, 3],\n",
       "        [2, 1, 3, ..., 0, 8, 2],\n",
       "        ...,\n",
       "        [1, 7, 1, ..., 9, 6, 4],\n",
       "        [3, 9, 8, ..., 0, 7, 5],\n",
       "        [0, 2, 8, ..., 0, 1, 9]]])"
      ]
     },
     "execution_count": 2,
     "metadata": {},
     "output_type": "execute_result"
    }
   ],
   "source": [
    "Z = np.random.randint(0, 10, 1000000).reshape(100, 100, 100)\n",
    "Z"
   ]
  },
  {
   "cell_type": "code",
   "execution_count": 3,
   "metadata": {},
   "outputs": [
    {
     "name": "stdout",
     "output_type": "stream",
     "text": [
      "25.7 ns ± 7.28 ns per loop (mean ± std. dev. of 7 runs, 10 loops each)\n"
     ]
    }
   ],
   "source": [
    "%timeit -n 10 a = 2\n",
    "\n",
    "for i in Z:\n",
    "    for j in i:\n",
    "        for k in j:\n",
    "            i += 1"
   ]
  },
  {
   "cell_type": "code",
   "execution_count": 4,
   "metadata": {},
   "outputs": [
    {
     "name": "stdout",
     "output_type": "stream",
     "text": [
      "25.7 ns ± 10.5 ns per loop (mean ± std. dev. of 7 runs, 10 loops each)\n"
     ]
    }
   ],
   "source": [
    "%timeit -n 10 a = 2\n",
    "\n",
    "for i in Z.flat:\n",
    "    i += 1"
   ]
  },
  {
   "cell_type": "code",
   "execution_count": 5,
   "metadata": {},
   "outputs": [
    {
     "name": "stdout",
     "output_type": "stream",
     "text": [
      "27.1 ns ± 10.3 ns per loop (mean ± std. dev. of 7 runs, 10 loops each)\n"
     ]
    }
   ],
   "source": [
    "%timeit -n 10 a = 2\n",
    "\n",
    "for i in np.nditer(Z):    \n",
    "    i = i + 1"
   ]
  },
  {
   "cell_type": "markdown",
   "metadata": {},
   "source": [
    "### 2. 如何從一個陣列中，找出出現頻率最高的數值與位置？\n"
   ]
  },
  {
   "cell_type": "code",
   "execution_count": 9,
   "metadata": {
    "colab": {},
    "colab_type": "code",
    "id": "e1gVI0tvsvFY"
   },
   "outputs": [
    {
     "name": "stdout",
     "output_type": "stream",
     "text": [
      "[6 3 1 2 3 1 1 4 0 8 1 6 9 8 6 5 3 3 3 2 2 6 0 9 9 0 2 9 0 8 3 9 2 9 1 2 5\n",
      " 1 9 9 0 9 8 5 2 8 1 7 5 1]\n"
     ]
    }
   ],
   "source": [
    "\n",
    "Z = np.random.randint(0,10,50)\n",
    "print(Z)\n"
   ]
  },
  {
   "cell_type": "code",
   "execution_count": 10,
   "metadata": {},
   "outputs": [
    {
     "data": {
      "text/plain": [
       "9"
      ]
     },
     "execution_count": 10,
     "metadata": {},
     "output_type": "execute_result"
    }
   ],
   "source": [
    "rint = (np.bincount(Z).argmax())\n",
    "rint"
   ]
  },
  {
   "cell_type": "code",
   "execution_count": 11,
   "metadata": {},
   "outputs": [
    {
     "data": {
      "text/plain": [
       "array([12, 23, 24, 27, 31, 33, 38, 39, 41], dtype=int64)"
      ]
     },
     "execution_count": 11,
     "metadata": {},
     "output_type": "execute_result"
    }
   ],
   "source": [
    "np.where(Z == rint)[0]"
   ]
  },
  {
   "cell_type": "markdown",
   "metadata": {},
   "source": [
    "### 3. 如何利用 list(...) 實現 a.tolist() 的效果？試著用程式實作。\n"
   ]
  },
  {
   "cell_type": "code",
   "execution_count": 12,
   "metadata": {},
   "outputs": [
    {
     "name": "stdout",
     "output_type": "stream",
     "text": [
      "[2, 8, 1, 9, 8, 1]\n",
      "[2, 8, 1, 9, 8, 1]\n",
      "[[6, 1, 9, 2], [6, 4, 4, 4], [0, 8, 3, 5]]\n",
      "[array([6, 1, 9, 2]), array([6, 4, 4, 4]), array([0, 8, 3, 5])]\n",
      "[[[7, 7], [7, 4], [6, 1]], [[8, 8], [3, 6], [3, 9]]]\n",
      "[array([[7, 7],\n",
      "       [7, 4],\n",
      "       [6, 1]]), array([[8, 8],\n",
      "       [3, 6],\n",
      "       [3, 9]])]\n"
     ]
    }
   ],
   "source": [
    "a = np.random.randint(10, size=6) \n",
    "\n",
    "print(a.tolist())\n",
    "print(list(a))\n",
    "\n",
    "\n",
    "b = np.random.randint(10, size=(3,4)) \n",
    "\n",
    "print(b.tolist())\n",
    "print(list(b))\n",
    "\n",
    "\n",
    "c = np.random.randint(10, size=(2,3,2)) \n",
    "\n",
    "print(c.tolist())\n",
    "print(list(c))\n"
   ]
  },
  {
   "cell_type": "code",
   "execution_count": 13,
   "metadata": {},
   "outputs": [
    {
     "name": "stdout",
     "output_type": "stream",
     "text": [
      "[2, 8, 1, 9, 8, 1]\n",
      "[[6, 1, 9, 2], [6, 4, 4, 4], [0, 8, 3, 5]]\n",
      "[[[7, 7], [7, 4], [6, 1]], [[8, 8], [3, 6], [3, 9]]]\n"
     ]
    }
   ],
   "source": [
    "def tolist(iterable):\n",
    "    if type(iterable) != np.ndarray:\n",
    "        return iterable\n",
    "    return [tolist(obj) for obj in iterable]\n",
    "\n",
    "print(tolist(a))\n",
    "print(tolist(b))\n",
    "print(tolist(c))"
   ]
  },
  {
   "cell_type": "code",
   "execution_count": null,
   "metadata": {},
   "outputs": [],
   "source": []
  }
 ],
 "metadata": {
  "colab": {
   "name": "Day_023_HW.ipynb",
   "provenance": []
  },
  "kernelspec": {
   "display_name": "Python 3",
   "language": "python",
   "name": "python3"
  },
  "language_info": {
   "codemirror_mode": {
    "name": "ipython",
    "version": 3
   },
   "file_extension": ".py",
   "mimetype": "text/x-python",
   "name": "python",
   "nbconvert_exporter": "python",
   "pygments_lexer": "ipython3",
   "version": "3.8.5"
  }
 },
 "nbformat": 4,
 "nbformat_minor": 1
}
